{
 "cells": [
  {
   "cell_type": "markdown",
   "id": "a5e227f6",
   "metadata": {},
   "source": [
    "## Q1. Write a python program to check if a number is positive ,negative or zero?"
   ]
  },
  {
   "cell_type": "code",
   "execution_count": 1,
   "id": "c686ac4b",
   "metadata": {},
   "outputs": [
    {
     "name": "stdout",
     "output_type": "stream",
     "text": [
      "Enter the number: -5\n",
      "negative\n"
     ]
    }
   ],
   "source": [
    "num=float(input(\"Enter the number: \"))\n",
    "\n",
    "if num>0:\n",
    "    print(\"positive number\")\n",
    "elif num<0:\n",
    "    print(\"negative\")\n",
    "    \n",
    "elif num==0:\n",
    "    print(\"zero\")"
   ]
  },
  {
   "cell_type": "markdown",
   "id": "dde9967b",
   "metadata": {},
   "source": [
    "## Q2.  Write a python program to check if a number is Odd or Even?"
   ]
  },
  {
   "cell_type": "code",
   "execution_count": 2,
   "id": "3c3c9f0b",
   "metadata": {},
   "outputs": [
    {
     "name": "stdout",
     "output_type": "stream",
     "text": [
      "Enter the number: 7\n",
      "odd number\n"
     ]
    }
   ],
   "source": [
    "num=int(input(\"Enter the number: \"))\n",
    "if (num%2)==0:\n",
    "    print(\"even number\")\n",
    "elif (num%2)==1:\n",
    "    print(\"odd number\")"
   ]
  },
  {
   "cell_type": "markdown",
   "id": "4bd2ca85",
   "metadata": {},
   "source": [
    "## Q3. Write a python program to check Leap Year?"
   ]
  },
  {
   "cell_type": "code",
   "execution_count": 4,
   "id": "4db8eaf0",
   "metadata": {},
   "outputs": [
    {
     "name": "stdout",
     "output_type": "stream",
     "text": [
      "Enter the year: 2015\n",
      "given year is not leap year\n"
     ]
    }
   ],
   "source": [
    "year=int(input(\"Enter the year: \"))\n",
    "if (year%4==0 and year%100 !=0) or (year%400==0):\n",
    "    print(\"Given year is leap year\")\n",
    "else:\n",
    "    print(\"given year is not leap year\")"
   ]
  },
  {
   "cell_type": "markdown",
   "id": "d3e44471",
   "metadata": {},
   "source": [
    "## Q4. Write  a python program to check Prime Number?"
   ]
  },
  {
   "cell_type": "code",
   "execution_count": 5,
   "id": "aa589b51",
   "metadata": {},
   "outputs": [
    {
     "name": "stdout",
     "output_type": "stream",
     "text": [
      "enter the number:5\n",
      "5 is prime\n"
     ]
    }
   ],
   "source": [
    "num=int(input(\"enter the number:\"))\n",
    "lim=int(num/2)+1\n",
    "for i in range(2,lim):\n",
    "    rem=num%i\n",
    "    if rem==0:\n",
    "        print(num,\"is not prime\")\n",
    "        break\n",
    "else:\n",
    "    print(num,\"is prime\")\n"
   ]
  },
  {
   "cell_type": "code",
   "execution_count": null,
   "id": "055c0366",
   "metadata": {},
   "outputs": [],
   "source": [
    "## Q5. Write a python program to print all prime numbers in an interval 1-10000"
   ]
  }
 ],
 "metadata": {
  "kernelspec": {
   "display_name": "Python 3 (ipykernel)",
   "language": "python",
   "name": "python3"
  },
  "language_info": {
   "codemirror_mode": {
    "name": "ipython",
    "version": 3
   },
   "file_extension": ".py",
   "mimetype": "text/x-python",
   "name": "python",
   "nbconvert_exporter": "python",
   "pygments_lexer": "ipython3",
   "version": "3.9.12"
  }
 },
 "nbformat": 4,
 "nbformat_minor": 5
}
