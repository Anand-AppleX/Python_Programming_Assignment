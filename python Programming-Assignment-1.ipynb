{
 "cells": [
  {
   "cell_type": "markdown",
   "id": "45543940",
   "metadata": {},
   "source": [
    "## Q1. Write a python program to print 'Hello Python'"
   ]
  },
  {
   "cell_type": "code",
   "execution_count": 1,
   "id": "5cd80687",
   "metadata": {},
   "outputs": [
    {
     "name": "stdout",
     "output_type": "stream",
     "text": [
      "Hello Python\n"
     ]
    }
   ],
   "source": [
    "print(\"Hello Python\")"
   ]
  },
  {
   "cell_type": "markdown",
   "id": "de36265f",
   "metadata": {},
   "source": [
    "## Q2. Write a python program to do arithemetical operations addition and division\n"
   ]
  },
  {
   "cell_type": "code",
   "execution_count": 4,
   "id": "41b58ff3",
   "metadata": {},
   "outputs": [
    {
     "name": "stdout",
     "output_type": "stream",
     "text": [
      "Enter num1: 10\n",
      "Enter num2: 5\n",
      "('+', '/')/\n",
      "2.0\n"
     ]
    }
   ],
   "source": [
    "a=int(input(\"Enter num1: \"))\n",
    "b=int(input(\"Enter num2: \"))\n",
    "operation=input((\"+\",\"/\"))\n",
    "if operation==\"+\":\n",
    "    print(a+b)\n",
    "elif operation==\"/\":\n",
    "    print(a/b)\n",
    "else:\n",
    "    pass"
   ]
  },
  {
   "cell_type": "markdown",
   "id": "d258b1c4",
   "metadata": {},
   "source": [
    "## Q3. Write a python program to find the area of a triangle"
   ]
  },
  {
   "cell_type": "code",
   "execution_count": 5,
   "id": "ac382503",
   "metadata": {},
   "outputs": [
    {
     "name": "stdout",
     "output_type": "stream",
     "text": [
      "Enter length of base of triangle: 5\n",
      "Enter the height of the triangle: 7\n",
      "17.5\n"
     ]
    }
   ],
   "source": [
    "base=int(input(\"Enter length of base of triangle: \"))\n",
    "height=int(input(\"Enter the height of the triangle: \"))\n",
    "area=0.5*base*height\n",
    "print(area)"
   ]
  },
  {
   "cell_type": "markdown",
   "id": "1df9eed9",
   "metadata": {},
   "source": [
    "## Q4. Write a python programm to swap two variables"
   ]
  },
  {
   "cell_type": "code",
   "execution_count": 6,
   "id": "eb8bbe75",
   "metadata": {},
   "outputs": [
    {
     "name": "stdout",
     "output_type": "stream",
     "text": [
      "x =  10\n",
      "y =  5\n"
     ]
    }
   ],
   "source": [
    "x=5\n",
    "y=10\n",
    "x,y=y,x\n",
    "print(\"x = \",x)\n",
    "print(\"y = \",y)"
   ]
  },
  {
   "cell_type": "code",
   "execution_count": null,
   "id": "6251dd54",
   "metadata": {},
   "outputs": [],
   "source": []
  }
 ],
 "metadata": {
  "kernelspec": {
   "display_name": "Python 3 (ipykernel)",
   "language": "python",
   "name": "python3"
  },
  "language_info": {
   "codemirror_mode": {
    "name": "ipython",
    "version": 3
   },
   "file_extension": ".py",
   "mimetype": "text/x-python",
   "name": "python",
   "nbconvert_exporter": "python",
   "pygments_lexer": "ipython3",
   "version": "3.9.12"
  }
 },
 "nbformat": 4,
 "nbformat_minor": 5
}
